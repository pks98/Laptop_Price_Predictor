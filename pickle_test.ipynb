{
  "nbformat": 4,
  "nbformat_minor": 0,
  "metadata": {
    "colab": {
      "name": "pickle_test.ipynb",
      "provenance": [],
      "authorship_tag": "ABX9TyPFj52AtckVrpat74oAjfqn",
      "include_colab_link": true
    },
    "kernelspec": {
      "name": "python3",
      "display_name": "Python 3"
    },
    "language_info": {
      "name": "python"
    }
  },
  "cells": [
    {
      "cell_type": "markdown",
      "metadata": {
        "id": "view-in-github",
        "colab_type": "text"
      },
      "source": [
        "<a href=\"https://colab.research.google.com/github/pks98/Laptop_Price_Predictor/blob/main/pickle_test.ipynb\" target=\"_parent\"><img src=\"https://colab.research.google.com/assets/colab-badge.svg\" alt=\"Open In Colab\"/></a>"
      ]
    },
    {
      "cell_type": "code",
      "execution_count": 5,
      "metadata": {
        "id": "ItgD8_Ee0t7Z"
      },
      "outputs": [],
      "source": [
        "import pickle\n",
        "import numpy as np"
      ]
    },
    {
      "cell_type": "code",
      "source": [
        "pipe=pickle.load(open('pipe8.pkl','rb'))\n",
        "df=pickle.load(open('df.pkl','rb'))"
      ],
      "metadata": {
        "id": "CgSy7hXH07CI"
      },
      "execution_count": 2,
      "outputs": []
    },
    {
      "cell_type": "code",
      "source": [
        "val=np.array(['Apple','Ultrabook',8,1.37,1,0,226.9,'Intel Core i5',2.3,0,256,'Intel','Mac']).reshape(1,-1)\n",
        "res=pipe.predict(val)"
      ],
      "metadata": {
        "colab": {
          "base_uri": "https://localhost:8080/"
        },
        "id": "FadUOwFb07Eo",
        "outputId": "8b3276ee-6f7a-4954-fda3-02cf9089f279"
      },
      "execution_count": 9,
      "outputs": [
        {
          "output_type": "stream",
          "name": "stderr",
          "text": [
            "/usr/local/lib/python3.7/dist-packages/sklearn/base.py:451: UserWarning: X does not have valid feature names, but OneHotEncoder was fitted with feature names\n",
            "  \"X does not have valid feature names, but\"\n"
          ]
        }
      ]
    },
    {
      "cell_type": "code",
      "source": [
        "np.exp(res)"
      ],
      "metadata": {
        "colab": {
          "base_uri": "https://localhost:8080/"
        },
        "id": "xERBQhh_07G_",
        "outputId": "ee85dfc4-14d6-44fd-f7fb-3e70e3268976"
      },
      "execution_count": 10,
      "outputs": [
        {
          "output_type": "execute_result",
          "data": {
            "text/plain": [
              "array([82727.38213273])"
            ]
          },
          "metadata": {},
          "execution_count": 10
        }
      ]
    }
  ]
}